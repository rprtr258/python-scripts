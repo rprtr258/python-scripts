{
 "cells": [
  {
   "cell_type": "code",
   "execution_count": 278,
   "metadata": {},
   "outputs": [],
   "source": [
    "from math import exp\n",
    "import matplotlib.pyplot as plt\n",
    "from random import random, seed"
   ]
  },
  {
   "cell_type": "code",
   "execution_count": 313,
   "metadata": {},
   "outputs": [],
   "source": [
    "def sigma(x):\n",
    "    return 1 / (1 + exp(-x))\n",
    "def sigmaDeriv(x):\n",
    "    s = sigma(x)\n",
    "    return s * (1 - s)\n",
    "class Perceptron():\n",
    "    def __init__(self, input_size, H, Hd, learningRate=10):\n",
    "        self.input_size = input_size\n",
    "        self.weight = [random()] * input_size\n",
    "        self.bias = random()\n",
    "        self.learningRate = learningRate\n",
    "        self.activation = H\n",
    "        self.activationDerivative = Hd\n",
    "    def evaluate(self, x):\n",
    "        y = sum(self.weight[i] * x[i] for i in range(self.input_size))\n",
    "        return self.activation(y + self.bias)\n",
    "    def train(self, x, fx):\n",
    "        y = sum(self.weight[i] * x[i] for i in range(self.input_size))\n",
    "        z = sigma(y + self.bias)\n",
    "        dedw = [2 * (z - fx) * self.activationDerivative(y + self.bias) * x[i] for i in range(self.input_size)]\n",
    "        dedb = 2 * (z - fx) * self.activationDerivative(y + self.bias)\n",
    "        for i in range(self.input_size):\n",
    "            self.weight[i] -= dedw[i] * self.learningRate\n",
    "        self.bias -= dedb * self.learningRate\n",
    "class Layer():\n",
    "    def __init__(self, input_size, size, H, Hd, prevLayer=None, learningRate=1):\n",
    "        self.input_size = input_size\n",
    "        self.size = size\n",
    "        self.layer = [Perceptron(input_size, H, Hd, learningRate) for i in range(size)]\n",
    "        self.prevLayer = prevLayer\n",
    "    def evaluate(self, x):\n",
    "        if not self.prevLayer is None:\n",
    "            x = self.prevLayer.evaluate(x)\n",
    "        return [self.layer[i].evaluate(x) for i in range(self.size)]\n",
    "    def train(self, x, fx):\n",
    "        origx = x\n",
    "        if not self.prevLayer is None:\n",
    "            x = self.prevLayer.evaluate(origx)\n",
    "        z = [self.layer[i].evaluate(x) for i in range(self.size)]\n",
    "        prod = [0] * self.size\n",
    "        for i in range(self.size):\n",
    "            y = sum(self.layer[i].weight[j] * x[j] for j in range(self.input_size))\n",
    "            prod[i] = 2 * (z[i] - fx[i]) * self.layer[i].activationDerivative(y + self.layer[i].bias)\n",
    "            self.layer[i].train(x, fx[i])\n",
    "        if not self.prevLayer is None:\n",
    "            dedx = [sum(prod[j] * self.layer[j].weight[i] for j in range(self.size)) for i in range(self.input_size)]\n",
    "            newx = [0] * self.input_size\n",
    "            for i in range(self.input_size):\n",
    "                sys.stdout.flush()\n",
    "                newx[i] = x[i] - dedx[i] * self.layer[0].learningRate\n",
    "            self.prevLayer.train(origx, newx)\n",
    "        #print(f\"w: {self.weight}, b: {self.bias}\")"
   ]
  },
  {
   "cell_type": "code",
   "execution_count": 314,
   "metadata": {},
   "outputs": [],
   "source": [
    "dataset = [\n",
    "    [[0, 0], [0, 1]],\n",
    "    [[0, 1], [1, 0]],\n",
    "    [[1, 0], [1, 1]],\n",
    "    [[1, 1], [0, 1]]\n",
    "]\n",
    "seed(1)\n",
    "nn = Layer(3, 2, sigma, sigmaDeriv, Layer(2, 3, sigma, sigmaDeriv))"
   ]
  },
  {
   "cell_type": "code",
   "execution_count": 315,
   "metadata": {
    "scrolled": false
   },
   "outputs": [
    {
     "name": "stdout",
     "output_type": "stream",
     "text": [
      "x: [0, 0], nn: [0.007657075768925594, 0.9962572603111253], f(x): [0, 1]\n",
      "x: [0, 1], nn: [0.9821026147463556, 0.017297996032369072], f(x): [1, 0]\n",
      "x: [1, 0], nn: [0.9821751399234558, 0.9932176995063446], f(x): [1, 1]\n",
      "x: [1, 1], nn: [0.02306177901657095, 0.9866253211656768], f(x): [0, 1]\n"
     ]
    },
    {
     "data": {
      "image/png": "[encoded data removed]",
      "text/plain": [
       "<Figure size 432x288 with 1 Axes>"
      ]
     },
     "metadata": {
      "needs_background": "light"
     },
     "output_type": "display_data"
    }
   ],
   "source": [
    "errors = []\n",
    "EPOCHS = 2000\n",
    "for i in range(EPOCHS):\n",
    "    #print(f\"Epoch: {i}\")\n",
    "    error = 0\n",
    "    for x, fx in dataset:\n",
    "        nn.train(x, fx)\n",
    "    for x, fx in dataset:\n",
    "        z = nn.evaluate(x)\n",
    "        #print(f\"x: {x}, nn: {z}, f(x): {fx}\")\n",
    "        error += sum(z[i] - fx[i] for i in range(len(z))) ** 2\n",
    "    errors.append(error ** 0.5)\n",
    "for x, fx in dataset:\n",
    "    z = nn.evaluate(x)\n",
    "    print(f\"x: {x}, nn: {z}, f(x): {fx}\")\n",
    "plt.plot(list(range(EPOCHS)), errors)\n",
    "plt.xlim(0, EPOCHS)\n",
    "#plt.ylim(0, max(errors))\n",
    "plt.show()"
   ]
  }
 ],
 "metadata": {
  "kernelspec": {
   "display_name": "Python 3",
   "language": "python",
   "name": "python3"
  },
  "latex_envs": {
   "LaTeX_envs_menu_present": true,
   "autoclose": false,
   "autocomplete": true,
   "bibliofile": "biblio.bib",
   "cite_by": "apalike",
   "current_citInitial": 1,
   "eqLabelWithNumbers": true,
   "eqNumInitial": 1,
   "hotkeys": {
    "equation": "Ctrl-E",
    "itemize": "Ctrl-I"
   },
   "labels_anchors": false,
   "latex_user_defs": false,
   "report_style_numbering": false,
   "user_envs_cfg": false
  }
 },
 "nbformat": 4,
 "nbformat_minor": 2
}
